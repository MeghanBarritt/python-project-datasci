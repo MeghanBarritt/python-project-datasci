{
 "cells": [
  {
   "cell_type": "markdown",
   "metadata": {},
   "source": [
    "**Build a regression model.**"
   ]
  },
  {
   "cell_type": "code",
   "execution_count": 181,
   "metadata": {},
   "outputs": [],
   "source": [
    "import numpy as np\n",
    "import pandas as pd\n",
    "from sklearn import linear_model\n",
    "import statsmodels.api as sm"
   ]
  },
  {
   "cell_type": "markdown",
   "metadata": {},
   "source": [
    "I want to use the category data, which means I need it to be numerical. "
   ]
  },
  {
   "cell_type": "code",
   "execution_count": 182,
   "metadata": {},
   "outputs": [],
   "source": [
    "data = pd.read_csv('joined_for_regression.csv')"
   ]
  },
  {
   "cell_type": "markdown",
   "metadata": {},
   "source": [
    "I'm going to try both putting the categories as straight numbers, and putting them as dummy columns to see what happens. "
   ]
  },
  {
   "cell_type": "code",
   "execution_count": 183,
   "metadata": {},
   "outputs": [],
   "source": [
    "data['categorized'] = np.where(data['categorized']=='Restaurant',1,data['categorized'])\n",
    "data['categorized'] = np.where(data['categorized']=='Bar',2,data['categorized'])\n",
    "data['categorized'] = np.where(data['categorized']=='Coffee Shop',3,data['categorized'])\n",
    "data['categorized'] = np.where(data['categorized']=='Museum',4,data['categorized'])\n",
    "data['categorized'] = np.where(data['categorized']=='Park',5,data['categorized'])\n",
    "data['categorized'] = np.where(data['categorized']=='Monument',6,data['categorized'])\n",
    "data['categorized'] = np.where(data['categorized']=='Stadium',7,data['categorized'])\n",
    "data['categorized'] = np.where(data['categorized']=='Mall',8,data['categorized'])\n",
    "data['categorized'] = np.where(data['categorized']=='Botanical Garden',9,data['categorized'])\n",
    "data['categorized'] = np.where(data['categorized']=='Concert Hall',10,data['categorized'])\n",
    "data['categorized'] = np.where(data['categorized']=='Hospital',11,data['categorized'])\n",
    "data['categorized'] = np.where(data['categorized']=='Library',12,data['categorized'])\n",
    "data['categorized'] = np.where(data['categorized']=='Tourism',13,data['categorized'])\n",
    "data['categorized'] = np.where(data['categorized']=='City Hall',14,data['categorized'])"
   ]
  },
  {
   "cell_type": "code",
   "execution_count": 184,
   "metadata": {},
   "outputs": [],
   "source": [
    "dummies = pd.get_dummies(data['categorized'],dtype=int)\n",
    "dummies = dummies.rename(columns={\n",
    "    1: 'Bar',\n",
    "    2: 'Restaurant',\n",
    "    3: 'Coffee Shop',\n",
    "    4: 'Museum',\n",
    "    5: 'Park',\n",
    "    6: 'Monument',\n",
    "    7: 'Stadium',\n",
    "    8: 'Mall',\n",
    "    9: 'Botanical Garden',\n",
    "    10: 'Concert Hall',\n",
    "    11: 'Hospital',\n",
    "    12: 'Library',\n",
    "    13: 'Tourism',\n",
    "    14: 'City Hall'})"
   ]
  },
  {
   "cell_type": "code",
   "execution_count": 185,
   "metadata": {},
   "outputs": [],
   "source": [
    "regress = pd.concat([data, dummies],axis=1)"
   ]
  },
  {
   "cell_type": "code",
   "execution_count": 186,
   "metadata": {},
   "outputs": [],
   "source": [
    "regress['categorized'] = regress['categorized'].astype(int)"
   ]
  },
  {
   "cell_type": "markdown",
   "metadata": {},
   "source": [
    "The bike return I have is for just after 8 pm on a Saturday, so late in the day for bike usage but still potentially within the range of significant usage, especially in a city's center. <p>\n",
    "First, looking at available bikes as the dependent variable."
   ]
  },
  {
   "cell_type": "markdown",
   "metadata": {},
   "source": [
    "Station number and lat/long are essentially the same information, so I probably don't want to use them at the same time, so I will be trying it once with each.<p>\n",
    "The way I'm going to do this:<ul>\n",
    "- throw everything in<br>\n",
    "- remove whatever has the highest p-value (that's over the 5% threshold)\n",
    "- repeat until everything is under the threshold"
   ]
  },
  {
   "cell_type": "code",
   "execution_count": 187,
   "metadata": {},
   "outputs": [],
   "source": [
    "# free bikes by station number\n",
    "X = regress[['Station_Number','distance','categorized','Bar','Restaurant','Coffee Shop',\n",
    "'Museum','Park','Monument','Stadium','Mall','Botanical Garden','Concert Hall','Hospital',\n",
    "'Library','Tourism','City Hall']]\n",
    "y = regress['free_bikes']\n",
    "X = sm.add_constant(X)"
   ]
  },
  {
   "cell_type": "code",
   "execution_count": 188,
   "metadata": {},
   "outputs": [
    {
     "name": "stdout",
     "output_type": "stream",
     "text": [
      "                            OLS Regression Results                            \n",
      "==============================================================================\n",
      "Dep. Variable:             free_bikes   R-squared:                       0.061\n",
      "Model:                            OLS   Adj. R-squared:                  0.053\n",
      "Method:                 Least Squares   F-statistic:                     7.330\n",
      "Date:                Wed, 23 Oct 2024   Prob (F-statistic):           1.14e-06\n",
      "Time:                        23:45:10   Log-Likelihood:                -1738.4\n",
      "No. Observations:                 570   AIC:                             3489.\n",
      "Df Residuals:                     564   BIC:                             3515.\n",
      "Df Model:                           5                                         \n",
      "Covariance Type:            nonrobust                                         \n",
      "==================================================================================\n",
      "                     coef    std err          t      P>|t|      [0.025      0.975]\n",
      "----------------------------------------------------------------------------------\n",
      "const              4.7000      0.462     10.179      0.000       3.793       5.607\n",
      "Station_Number     0.0423      0.013      3.226      0.001       0.017       0.068\n",
      "Restaurant        -1.2848      0.564     -2.278      0.023      -2.392      -0.177\n",
      "Coffee Shop        1.8192      0.672      2.706      0.007       0.499       3.140\n",
      "Museum             2.3183      0.962      2.411      0.016       0.430       4.207\n",
      "Hospital          -6.1235      2.978     -2.056      0.040     -11.973      -0.274\n",
      "==============================================================================\n",
      "Omnibus:                       43.640   Durbin-Watson:                   0.293\n",
      "Prob(Omnibus):                  0.000   Jarque-Bera (JB):               48.867\n",
      "Skew:                           0.690   Prob(JB):                     2.45e-11\n",
      "Kurtosis:                       2.607   Cond. No.                         462.\n",
      "==============================================================================\n",
      "\n",
      "Notes:\n",
      "[1] Standard Errors assume that the covariance matrix of the errors is correctly specified.\n"
     ]
    }
   ],
   "source": [
    "lin_reg = sm.OLS(y,X[['const','Station_Number','Restaurant','Coffee Shop','Museum',\n",
    "'Hospital']])\n",
    "\n",
    "model = lin_reg.fit()\n",
    "print_model = model.summary()\n",
    "print(print_model)"
   ]
  },
  {
   "cell_type": "code",
   "execution_count": 189,
   "metadata": {},
   "outputs": [],
   "source": [
    "#free bikes by lat/long\n",
    "X = regress[['latitude','longitude','distance','categorized','Bar','Restaurant',\n",
    "'Coffee Shop','Museum','Park','Monument','Stadium','Mall','Botanical Garden',\n",
    "'Concert Hall','Hospital','Library','Tourism','City Hall']]\n",
    "y = regress['free_bikes']\n",
    "X = sm.add_constant(X)"
   ]
  },
  {
   "cell_type": "code",
   "execution_count": 190,
   "metadata": {},
   "outputs": [
    {
     "name": "stdout",
     "output_type": "stream",
     "text": [
      "                            OLS Regression Results                            \n",
      "==============================================================================\n",
      "Dep. Variable:             free_bikes   R-squared:                       0.224\n",
      "Model:                            OLS   Adj. R-squared:                  0.203\n",
      "Method:                 Least Squares   F-statistic:                     10.65\n",
      "Date:                Wed, 23 Oct 2024   Prob (F-statistic):           9.16e-23\n",
      "Time:                        23:45:10   Log-Likelihood:                -1684.1\n",
      "No. Observations:                 570   AIC:                             3400.\n",
      "Df Residuals:                     554   BIC:                             3470.\n",
      "Df Model:                          15                                         \n",
      "Covariance Type:            nonrobust                                         \n",
      "====================================================================================\n",
      "                       coef    std err          t      P>|t|      [0.025      0.975]\n",
      "------------------------------------------------------------------------------------\n",
      "const             5919.9035    987.103      5.997      0.000    3980.981    7858.826\n",
      "latitude          -105.9881     19.308     -5.489      0.000    -143.914     -68.062\n",
      "longitude           92.7956      9.860      9.412      0.000      73.429     112.162\n",
      "Bar                422.4041     70.447      5.996      0.000     284.027     560.781\n",
      "Restaurant         421.9145     70.529      5.982      0.000     283.377     560.452\n",
      "Coffee Shop        423.7091     70.420      6.017      0.000     285.387     562.031\n",
      "Museum             424.5324     70.568      6.016      0.000     285.918     563.147\n",
      "Park               422.8715     70.374      6.009      0.000     284.639     561.104\n",
      "Monument           424.2372     70.593      6.010      0.000     285.575     562.900\n",
      "Stadium            424.0412     70.384      6.025      0.000     285.789     562.293\n",
      "Mall               420.4467     70.513      5.963      0.000     281.942     558.951\n",
      "Botanical Garden   424.4710     70.201      6.047      0.000     286.579     562.363\n",
      "Concert Hall       421.3157     70.657      5.963      0.000     282.528     560.104\n",
      "Hospital           420.4245     70.816      5.937      0.000     281.323     559.526\n",
      "Library            421.3413     70.893      5.943      0.000     282.089     560.594\n",
      "Tourism            425.6734     70.668      6.024      0.000     286.864     564.483\n",
      "City Hall          422.5208     70.417      6.000      0.000     284.204     560.837\n",
      "==============================================================================\n",
      "Omnibus:                       50.715   Durbin-Watson:                   0.255\n",
      "Prob(Omnibus):                  0.000   Jarque-Bera (JB):               57.725\n",
      "Skew:                           0.750   Prob(JB):                     2.92e-13\n",
      "Kurtosis:                       2.572   Cond. No.                     8.12e+17\n",
      "==============================================================================\n",
      "\n",
      "Notes:\n",
      "[1] Standard Errors assume that the covariance matrix of the errors is correctly specified.\n",
      "[2] The smallest eigenvalue is 2.61e-30. This might indicate that there are\n",
      "strong multicollinearity problems or that the design matrix is singular.\n"
     ]
    }
   ],
   "source": [
    "lin_reg = sm.OLS(y,X[['const','latitude','longitude','Bar','Restaurant','Coffee Shop',\n",
    "'Museum','Park','Monument','Stadium','Mall','Botanical Garden','Concert Hall',\n",
    "'Hospital','Library','Tourism','City Hall']])\n",
    "\n",
    "model = lin_reg.fit()\n",
    "print_model = model.summary()\n",
    "print(print_model)"
   ]
  },
  {
   "cell_type": "markdown",
   "metadata": {},
   "source": [
    "Even though the p-value did not get to the 5% threshold, I removed 'categorized' because it has occured to me that it's just dupilications of all the data from the classification columns, and if I'm using those I shouldn't include it. Removing it didn't change the r-squared, but did change the coefficients. (It got removed via p-value when using station number.) I'm going to just preemptively remove it for the other variable.\n"
   ]
  },
  {
   "cell_type": "markdown",
   "metadata": {},
   "source": [
    "Now the number of empty slots."
   ]
  },
  {
   "cell_type": "code",
   "execution_count": 191,
   "metadata": {},
   "outputs": [],
   "source": [
    "# empty slots by station number\n",
    "X = regress[['Station_Number','distance','Bar','Restaurant', 'Coffee Shop','Museum',\n",
    "'Park','Monument','Stadium','Mall','Botanical Garden','Concert Hall','Hospital', \n",
    "'Library', 'Tourism', 'City Hall']]\n",
    "y = regress['empty_slots']\n",
    "X = sm.add_constant(X)"
   ]
  },
  {
   "cell_type": "code",
   "execution_count": 192,
   "metadata": {},
   "outputs": [
    {
     "name": "stdout",
     "output_type": "stream",
     "text": [
      "                            OLS Regression Results                            \n",
      "==============================================================================\n",
      "Dep. Variable:            empty_slots   R-squared:                       0.066\n",
      "Model:                            OLS   Adj. R-squared:                  0.061\n",
      "Method:                 Least Squares   F-statistic:                     13.25\n",
      "Date:                Wed, 23 Oct 2024   Prob (F-statistic):           2.26e-08\n",
      "Time:                        23:45:10   Log-Likelihood:                -1699.8\n",
      "No. Observations:                 570   AIC:                             3408.\n",
      "Df Residuals:                     566   BIC:                             3425.\n",
      "Df Model:                           3                                         \n",
      "Covariance Type:            nonrobust                                         \n",
      "==================================================================================\n",
      "                     coef    std err          t      P>|t|      [0.025      0.975]\n",
      "----------------------------------------------------------------------------------\n",
      "const              9.1194      0.497     18.366      0.000       8.144      10.095\n",
      "Station_Number    -0.0636      0.012     -5.184      0.000      -0.088      -0.040\n",
      "distance           0.0022      0.001      3.094      0.002       0.001       0.004\n",
      "Library            7.4213      2.774      2.675      0.008       1.972      12.870\n",
      "==============================================================================\n",
      "Omnibus:                      130.026   Durbin-Watson:                   0.263\n",
      "Prob(Omnibus):                  0.000   Jarque-Bera (JB):               24.853\n",
      "Skew:                           0.002   Prob(JB):                     4.01e-06\n",
      "Kurtosis:                       1.977   Cond. No.                     7.46e+03\n",
      "==============================================================================\n",
      "\n",
      "Notes:\n",
      "[1] Standard Errors assume that the covariance matrix of the errors is correctly specified.\n",
      "[2] The condition number is large, 7.46e+03. This might indicate that there are\n",
      "strong multicollinearity or other numerical problems.\n"
     ]
    }
   ],
   "source": [
    "lin_reg = sm.OLS(y,X[['const','Station_Number','distance','Library']])\n",
    "\n",
    "model = lin_reg.fit()\n",
    "print_model = model.summary()\n",
    "print(print_model)"
   ]
  },
  {
   "cell_type": "markdown",
   "metadata": {},
   "source": [
    "That doesn't seem right. One of two things that has a meaningful impact on empty spots at bike stations being libraries is very funny though. "
   ]
  },
  {
   "cell_type": "code",
   "execution_count": 193,
   "metadata": {},
   "outputs": [],
   "source": [
    "# emplty slots by lat/long\n",
    "X = regress[['latitude','longitude','distance','Bar','Restaurant',\n",
    "'Coffee Shop','Museum','Park','Monument','Stadium','Mall','Botanical Garden',\n",
    "'Concert Hall','Hospital','Library','Tourism','City Hall']]\n",
    "y = regress['empty_slots']\n",
    "X = sm.add_constant(X)"
   ]
  },
  {
   "cell_type": "markdown",
   "metadata": {},
   "source": [
    "..... there's nothing to remove. Ok. "
   ]
  },
  {
   "cell_type": "code",
   "execution_count": 194,
   "metadata": {},
   "outputs": [
    {
     "name": "stdout",
     "output_type": "stream",
     "text": [
      "                            OLS Regression Results                            \n",
      "==============================================================================\n",
      "Dep. Variable:            empty_slots   R-squared:                       0.247\n",
      "Model:                            OLS   Adj. R-squared:                  0.225\n",
      "Method:                 Least Squares   F-statistic:                     11.31\n",
      "Date:                Wed, 23 Oct 2024   Prob (F-statistic):           1.61e-25\n",
      "Time:                        23:45:10   Log-Likelihood:                -1638.4\n",
      "No. Observations:                 570   AIC:                             3311.\n",
      "Df Residuals:                     553   BIC:                             3385.\n",
      "Df Model:                          16                                         \n",
      "Covariance Type:            nonrobust                                         \n",
      "====================================================================================\n",
      "                       coef    std err          t      P>|t|      [0.025      0.975]\n",
      "------------------------------------------------------------------------------------\n",
      "const            -8742.9707    914.801     -9.557      0.000   -1.05e+04   -6946.060\n",
      "latitude           163.5871     17.899      9.140      0.000     128.430     198.745\n",
      "longitude          -74.9585      9.125     -8.215      0.000     -92.882     -57.035\n",
      "distance             0.0017      0.001      2.664      0.008       0.000       0.003\n",
      "Bar               -625.0965     65.287     -9.575      0.000    -753.337    -496.856\n",
      "Restaurant        -625.1038     65.363     -9.564      0.000    -753.494    -496.713\n",
      "Coffee Shop       -625.0899     65.260     -9.578      0.000    -753.277    -496.903\n",
      "Museum            -623.8030     65.403     -9.538      0.000    -752.271    -495.335\n",
      "Park              -624.9338     65.226     -9.581      0.000    -753.055    -496.813\n",
      "Monument          -624.8292     65.427     -9.550      0.000    -753.345    -496.313\n",
      "Stadium           -623.7379     65.235     -9.561      0.000    -751.877    -495.599\n",
      "Mall              -624.8331     65.341     -9.563      0.000    -753.181    -496.485\n",
      "Botanical Garden  -624.1971     65.066     -9.593      0.000    -752.004    -496.390\n",
      "Concert Hall      -623.1610     65.492     -9.515      0.000    -751.804    -494.518\n",
      "Hospital          -624.2806     65.622     -9.513      0.000    -753.179    -495.382\n",
      "Library           -622.2650     65.695     -9.472      0.000    -751.308    -493.222\n",
      "Tourism           -629.3117     65.476     -9.611      0.000    -757.925    -500.699\n",
      "City Hall         -622.3281     65.255     -9.537      0.000    -750.507    -494.149\n",
      "==============================================================================\n",
      "Omnibus:                       16.227   Durbin-Watson:                   0.247\n",
      "Prob(Omnibus):                  0.000   Jarque-Bera (JB):                9.379\n",
      "Skew:                          -0.135   Prob(JB):                      0.00919\n",
      "Kurtosis:                       2.432   Cond. No.                     7.57e+18\n",
      "==============================================================================\n",
      "\n",
      "Notes:\n",
      "[1] Standard Errors assume that the covariance matrix of the errors is correctly specified.\n",
      "[2] The smallest eigenvalue is 2.91e-30. This might indicate that there are\n",
      "strong multicollinearity problems or that the design matrix is singular.\n"
     ]
    }
   ],
   "source": [
    "lin_reg = sm.OLS(y,X)\n",
    "\n",
    "model = lin_reg.fit()\n",
    "print_model = model.summary()\n",
    "print(print_model)"
   ]
  },
  {
   "cell_type": "markdown",
   "metadata": {},
   "source": [
    "**Provide model output and an interpretation of the results.**"
   ]
  },
  {
   "cell_type": "markdown",
   "metadata": {},
   "source": [
    "Using lat/long rather than station number provided better r-squared values for both the free bikes variable (0.224 vs 0.061) and the empty slots variable (0.247 vs 0.066). Using lat/long, all of the location types show as statistically significant, but distance is not for bikes available at a station."
   ]
  },
  {
   "cell_type": "markdown",
   "metadata": {},
   "source": [
    "The data for the number of free bikes/empty slots was retrived at 8pm on a Saturday."
   ]
  },
  {
   "cell_type": "code",
   "execution_count": 195,
   "metadata": {},
   "outputs": [
    {
     "name": "stdout",
     "output_type": "stream",
     "text": [
      "                            OLS Regression Results                            \n",
      "==============================================================================\n",
      "Dep. Variable:             free_bikes   R-squared:                       0.224\n",
      "Model:                            OLS   Adj. R-squared:                  0.203\n",
      "Method:                 Least Squares   F-statistic:                     10.65\n",
      "Date:                Wed, 23 Oct 2024   Prob (F-statistic):           9.16e-23\n",
      "Time:                        23:45:10   Log-Likelihood:                -1684.1\n",
      "No. Observations:                 570   AIC:                             3400.\n",
      "Df Residuals:                     554   BIC:                             3470.\n",
      "Df Model:                          15                                         \n",
      "Covariance Type:            nonrobust                                         \n",
      "====================================================================================\n",
      "                       coef    std err          t      P>|t|      [0.025      0.975]\n",
      "------------------------------------------------------------------------------------\n",
      "const             5919.9035    987.103      5.997      0.000    3980.981    7858.826\n",
      "latitude          -105.9881     19.308     -5.489      0.000    -143.914     -68.062\n",
      "longitude           92.7956      9.860      9.412      0.000      73.429     112.162\n",
      "Bar                422.4041     70.447      5.996      0.000     284.027     560.781\n",
      "Restaurant         421.9145     70.529      5.982      0.000     283.377     560.452\n",
      "Coffee Shop        423.7091     70.420      6.017      0.000     285.387     562.031\n",
      "Museum             424.5324     70.568      6.016      0.000     285.918     563.147\n",
      "Park               422.8715     70.374      6.009      0.000     284.639     561.104\n",
      "Monument           424.2372     70.593      6.010      0.000     285.575     562.900\n",
      "Stadium            424.0412     70.384      6.025      0.000     285.789     562.293\n",
      "Mall               420.4467     70.513      5.963      0.000     281.942     558.951\n",
      "Botanical Garden   424.4710     70.201      6.047      0.000     286.579     562.363\n",
      "Concert Hall       421.3157     70.657      5.963      0.000     282.528     560.104\n",
      "Hospital           420.4245     70.816      5.937      0.000     281.323     559.526\n",
      "Library            421.3413     70.893      5.943      0.000     282.089     560.594\n",
      "Tourism            425.6734     70.668      6.024      0.000     286.864     564.483\n",
      "City Hall          422.5208     70.417      6.000      0.000     284.204     560.837\n",
      "==============================================================================\n",
      "Omnibus:                       50.715   Durbin-Watson:                   0.255\n",
      "Prob(Omnibus):                  0.000   Jarque-Bera (JB):               57.725\n",
      "Skew:                           0.750   Prob(JB):                     2.92e-13\n",
      "Kurtosis:                       2.572   Cond. No.                     8.12e+17\n",
      "==============================================================================\n",
      "\n",
      "Notes:\n",
      "[1] Standard Errors assume that the covariance matrix of the errors is correctly specified.\n",
      "[2] The smallest eigenvalue is 2.61e-30. This might indicate that there are\n",
      "strong multicollinearity problems or that the design matrix is singular.\n"
     ]
    }
   ],
   "source": [
    "X = regress[['latitude','longitude','Bar','Restaurant','Coffee Shop','Museum','Park','Monument',\n",
    "'Stadium','Mall','Botanical Garden','Concert Hall','Hospital','Library','Tourism','City Hall']]\n",
    "y = regress['free_bikes']\n",
    "X = sm.add_constant(X)\n",
    "\n",
    "lin_reg = sm.OLS(y,X)\n",
    "\n",
    "model = lin_reg.fit()\n",
    "print_model = model.summary()\n",
    "print(print_model)"
   ]
  },
  {
   "cell_type": "markdown",
   "metadata": {},
   "source": [
    "Everything included here has a positive effect on the number of available bikes, with all types of location having similar effects. Being further west has a positive impact, while being further north is the only thing that shows as having a negative effect."
   ]
  },
  {
   "cell_type": "code",
   "execution_count": 196,
   "metadata": {},
   "outputs": [
    {
     "name": "stdout",
     "output_type": "stream",
     "text": [
      "                            OLS Regression Results                            \n",
      "==============================================================================\n",
      "Dep. Variable:            empty_slots   R-squared:                       0.247\n",
      "Model:                            OLS   Adj. R-squared:                  0.225\n",
      "Method:                 Least Squares   F-statistic:                     11.31\n",
      "Date:                Wed, 23 Oct 2024   Prob (F-statistic):           1.61e-25\n",
      "Time:                        23:45:10   Log-Likelihood:                -1638.4\n",
      "No. Observations:                 570   AIC:                             3311.\n",
      "Df Residuals:                     553   BIC:                             3385.\n",
      "Df Model:                          16                                         \n",
      "Covariance Type:            nonrobust                                         \n",
      "====================================================================================\n",
      "                       coef    std err          t      P>|t|      [0.025      0.975]\n",
      "------------------------------------------------------------------------------------\n",
      "const            -8742.9707    914.801     -9.557      0.000   -1.05e+04   -6946.060\n",
      "latitude           163.5871     17.899      9.140      0.000     128.430     198.745\n",
      "longitude          -74.9585      9.125     -8.215      0.000     -92.882     -57.035\n",
      "distance             0.0017      0.001      2.664      0.008       0.000       0.003\n",
      "Bar               -625.0965     65.287     -9.575      0.000    -753.337    -496.856\n",
      "Restaurant        -625.1038     65.363     -9.564      0.000    -753.494    -496.713\n",
      "Coffee Shop       -625.0899     65.260     -9.578      0.000    -753.277    -496.903\n",
      "Museum            -623.8030     65.403     -9.538      0.000    -752.271    -495.335\n",
      "Park              -624.9338     65.226     -9.581      0.000    -753.055    -496.813\n",
      "Monument          -624.8292     65.427     -9.550      0.000    -753.345    -496.313\n",
      "Stadium           -623.7379     65.235     -9.561      0.000    -751.877    -495.599\n",
      "Mall              -624.8331     65.341     -9.563      0.000    -753.181    -496.485\n",
      "Botanical Garden  -624.1971     65.066     -9.593      0.000    -752.004    -496.390\n",
      "Concert Hall      -623.1610     65.492     -9.515      0.000    -751.804    -494.518\n",
      "Hospital          -624.2806     65.622     -9.513      0.000    -753.179    -495.382\n",
      "Library           -622.2650     65.695     -9.472      0.000    -751.308    -493.222\n",
      "Tourism           -629.3117     65.476     -9.611      0.000    -757.925    -500.699\n",
      "City Hall         -622.3281     65.255     -9.537      0.000    -750.507    -494.149\n",
      "==============================================================================\n",
      "Omnibus:                       16.227   Durbin-Watson:                   0.247\n",
      "Prob(Omnibus):                  0.000   Jarque-Bera (JB):                9.379\n",
      "Skew:                          -0.135   Prob(JB):                      0.00919\n",
      "Kurtosis:                       2.432   Cond. No.                     7.57e+18\n",
      "==============================================================================\n",
      "\n",
      "Notes:\n",
      "[1] Standard Errors assume that the covariance matrix of the errors is correctly specified.\n",
      "[2] The smallest eigenvalue is 2.91e-30. This might indicate that there are\n",
      "strong multicollinearity problems or that the design matrix is singular.\n"
     ]
    }
   ],
   "source": [
    "X = regress[['latitude','longitude','distance','Bar','Restaurant',\n",
    "'Coffee Shop','Museum','Park','Monument','Stadium','Mall','Botanical Garden',\n",
    "'Concert Hall','Hospital','Library','Tourism','City Hall']]\n",
    "y = regress['empty_slots']\n",
    "X = sm.add_constant(X)\n",
    "\n",
    "lin_reg = sm.OLS(y,X)\n",
    "\n",
    "model = lin_reg.fit()\n",
    "print_model = model.summary()\n",
    "print(print_model)"
   ]
  },
  {
   "cell_type": "markdown",
   "metadata": {},
   "source": [
    "The relationships this time are the opposite of in the available bikes model, albiet with different coefficients. The distance coefficient, which was not present at all in the available bikes model, is tiny. "
   ]
  },
  {
   "cell_type": "code",
   "execution_count": 197,
   "metadata": {},
   "outputs": [
    {
     "name": "stdout",
     "output_type": "stream",
     "text": [
      "                            OLS Regression Results                            \n",
      "==============================================================================\n",
      "Dep. Variable:            empty_slots   R-squared:                       0.237\n",
      "Model:                            OLS   Adj. R-squared:                  0.216\n",
      "Method:                 Least Squares   F-statistic:                     11.47\n",
      "Date:                Wed, 23 Oct 2024   Prob (F-statistic):           1.20e-24\n",
      "Time:                        23:45:10   Log-Likelihood:                -1642.1\n",
      "No. Observations:                 570   AIC:                             3316.\n",
      "Df Residuals:                     554   BIC:                             3386.\n",
      "Df Model:                          15                                         \n",
      "Covariance Type:            nonrobust                                         \n",
      "====================================================================================\n",
      "                       coef    std err          t      P>|t|      [0.025      0.975]\n",
      "------------------------------------------------------------------------------------\n",
      "const            -8551.4025    916.973     -9.326      0.000   -1.04e+04   -6750.234\n",
      "latitude           159.6870     17.936      8.903      0.000     124.455     194.919\n",
      "longitude          -76.3905      9.159     -8.340      0.000     -94.381     -58.400\n",
      "Bar               -611.4541     65.442     -9.343      0.000    -740.000    -482.909\n",
      "Restaurant        -611.4226     65.518     -9.332      0.000    -740.118    -482.728\n",
      "Coffee Shop       -611.4873     65.417     -9.348      0.000    -739.982    -482.992\n",
      "Museum            -610.0001     65.555     -9.305      0.000    -738.766    -481.234\n",
      "Park              -611.0512     65.374     -9.347      0.000    -739.463    -482.640\n",
      "Monument          -610.9625     65.577     -9.317      0.000    -739.773    -482.152\n",
      "Stadium           -609.8534     65.383     -9.327      0.000    -738.283    -481.424\n",
      "Mall              -611.3652     65.503     -9.333      0.000    -740.030    -482.701\n",
      "Botanical Garden  -610.3206     65.213     -9.359      0.000    -738.416    -482.225\n",
      "Concert Hall      -609.1104     65.637     -9.280      0.000    -738.038    -480.183\n",
      "Hospital          -610.7818     65.785     -9.285      0.000    -740.000    -481.563\n",
      "Library           -608.6885     65.856     -9.243      0.000    -738.047    -479.330\n",
      "Tourism           -616.1223     65.647     -9.385      0.000    -745.070    -487.175\n",
      "City Hall         -608.7826     65.414     -9.307      0.000    -737.272    -480.293\n",
      "==============================================================================\n",
      "Omnibus:                       14.260   Durbin-Watson:                   0.247\n",
      "Prob(Omnibus):                  0.001   Jarque-Bera (JB):                8.416\n",
      "Skew:                          -0.119   Prob(JB):                       0.0149\n",
      "Kurtosis:                       2.454   Cond. No.                     8.12e+17\n",
      "==============================================================================\n",
      "\n",
      "Notes:\n",
      "[1] Standard Errors assume that the covariance matrix of the errors is correctly specified.\n",
      "[2] The smallest eigenvalue is 2.61e-30. This might indicate that there are\n",
      "strong multicollinearity problems or that the design matrix is singular.\n"
     ]
    }
   ],
   "source": [
    "lin_reg = sm.OLS(y,X[['const','latitude','longitude','Bar','Restaurant',\n",
    "'Coffee Shop','Museum','Park','Monument','Stadium','Mall','Botanical Garden',\n",
    "'Concert Hall','Hospital','Library','Tourism','City Hall']])\n",
    "\n",
    "model = lin_reg.fit()\n",
    "print_model = model.summary()\n",
    "print(print_model)"
   ]
  },
  {
   "cell_type": "markdown",
   "metadata": {},
   "source": [
    "However, removing it _does_ make the slightly model worse.\n"
   ]
  },
  {
   "cell_type": "markdown",
   "metadata": {},
   "source": [
    "Regardless, this model does not fit the data very well; it is possible that a pull from a more active time of day, or using data from the Yelp API that included things like ratings would give a better model. However, with the timezones, getting a pull at noon, or even right after the end of the workday, would be difficult for me. "
   ]
  },
  {
   "cell_type": "markdown",
   "metadata": {},
   "source": [
    "The models' fits get drammatically better if you put the *CLEARLY* colinear free bikes/empty slots variables back in. Which probably makes some kind of sense, but I'm not entirely sure why."
   ]
  },
  {
   "cell_type": "code",
   "execution_count": 198,
   "metadata": {},
   "outputs": [
    {
     "name": "stdout",
     "output_type": "stream",
     "text": [
      "                            OLS Regression Results                            \n",
      "==============================================================================\n",
      "Dep. Variable:             free_bikes   R-squared:                       0.509\n",
      "Model:                            OLS   Adj. R-squared:                  0.495\n",
      "Method:                 Least Squares   F-statistic:                     35.84\n",
      "Date:                Wed, 23 Oct 2024   Prob (F-statistic):           8.98e-75\n",
      "Time:                        23:45:10   Log-Likelihood:                -1553.5\n",
      "No. Observations:                 570   AIC:                             3141.\n",
      "Df Residuals:                     553   BIC:                             3215.\n",
      "Df Model:                          16                                         \n",
      "Covariance Type:            nonrobust                                         \n",
      "====================================================================================\n",
      "                       coef    std err          t      P>|t|      [0.025      0.975]\n",
      "------------------------------------------------------------------------------------\n",
      "const              339.6224    845.197      0.402      0.688   -1320.566    1999.811\n",
      "empty_slots         -0.6526      0.036    -17.924      0.000      -0.724      -0.581\n",
      "latitude            -1.7832     16.433     -0.109      0.914     -34.062      30.495\n",
      "longitude           42.9464      8.327      5.158      0.000      26.590      59.302\n",
      "Bar                 23.3951     60.335      0.388      0.698     -95.120     141.910\n",
      "Restaurant          22.9262     60.396      0.380      0.704     -95.707     141.559\n",
      "Coffee Shop         24.6785     60.315      0.409      0.683     -93.797     143.154\n",
      "Museum              26.4724     60.405      0.438      0.661     -92.180     145.124\n",
      "Park                24.1255     60.276      0.400      0.689     -94.272     142.523\n",
      "Monument            25.5491     60.436      0.423      0.673     -93.164     144.262\n",
      "Stadium             26.0769     60.267      0.433      0.665     -92.303     144.457\n",
      "Mall                21.4958     60.382      0.356      0.722     -97.111     140.103\n",
      "Botanical Garden    26.2018     60.138      0.436      0.663     -91.925     144.328\n",
      "Concert Hall        23.8362     60.459      0.394      0.694     -94.921     142.594\n",
      "Hospital            21.8543     60.599      0.361      0.719     -97.179     140.887\n",
      "Library             24.1371     60.628      0.398      0.691     -94.953     143.227\n",
      "Tourism             23.6182     60.561      0.390      0.697     -95.340     142.576\n",
      "City Hall           25.2552     60.277      0.419      0.675     -93.144     143.655\n",
      "==============================================================================\n",
      "Omnibus:                       38.847   Durbin-Watson:                   0.269\n",
      "Prob(Omnibus):                  0.000   Jarque-Bera (JB):               40.815\n",
      "Skew:                           0.617   Prob(JB):                     1.37e-09\n",
      "Kurtosis:                       2.559   Cond. No.                     9.02e+17\n",
      "==============================================================================\n",
      "\n",
      "Notes:\n",
      "[1] Standard Errors assume that the covariance matrix of the errors is correctly specified.\n",
      "[2] The smallest eigenvalue is 2.16e-30. This might indicate that there are\n",
      "strong multicollinearity problems or that the design matrix is singular.\n"
     ]
    }
   ],
   "source": [
    "X = regress[['empty_slots','latitude','longitude','Bar','Restaurant','Coffee Shop','Museum','Park','Monument',\n",
    "'Stadium','Mall','Botanical Garden','Concert Hall','Hospital','Library','Tourism','City Hall']]\n",
    "y = regress['free_bikes']\n",
    "X = sm.add_constant(X)\n",
    "\n",
    "lin_reg = sm.OLS(y,X)\n",
    "\n",
    "model = lin_reg.fit()\n",
    "print_model = model.summary()\n",
    "print(print_model)"
   ]
  },
  {
   "cell_type": "code",
   "execution_count": 202,
   "metadata": {},
   "outputs": [
    {
     "name": "stdout",
     "output_type": "stream",
     "text": [
      "                            OLS Regression Results                            \n",
      "==============================================================================\n",
      "Dep. Variable:            empty_slots   R-squared:                       0.535\n",
      "Model:                            OLS   Adj. R-squared:                  0.520\n",
      "Method:                 Least Squares   F-statistic:                     37.30\n",
      "Date:                Wed, 23 Oct 2024   Prob (F-statistic):           3.18e-80\n",
      "Time:                        23:48:38   Log-Likelihood:                -1501.2\n",
      "No. Observations:                 570   AIC:                             3038.\n",
      "Df Residuals:                     552   BIC:                             3117.\n",
      "Df Model:                          17                                         \n",
      "Covariance Type:            nonrobust                                         \n",
      "====================================================================================\n",
      "                       coef    std err          t      P>|t|      [0.025      0.975]\n",
      "------------------------------------------------------------------------------------\n",
      "const            -5422.8785    741.747     -7.311      0.000   -6879.871   -3965.886\n",
      "free_bikes          -0.5718      0.031    -18.481      0.000      -0.633      -0.511\n",
      "latitude           104.3042     14.441      7.223      0.000      75.937     132.671\n",
      "longitude          -21.4161      7.741     -2.767      0.006     -36.622      -6.211\n",
      "distance             0.0023      0.001      4.522      0.000       0.001       0.003\n",
      "Bar               -388.1883     52.936     -7.333      0.000    -492.168    -284.208\n",
      "Restaurant        -388.4887     52.990     -7.331      0.000    -492.576    -284.401\n",
      "Coffee Shop       -387.4221     52.925     -7.320      0.000    -491.382    -283.463\n",
      "Museum            -385.7321     53.040     -7.273      0.000    -489.916    -281.548\n",
      "Park              -387.8396     52.892     -7.333      0.000    -491.734    -283.945\n",
      "Monument          -386.9487     53.056     -7.293      0.000    -491.165    -282.733\n",
      "Stadium           -385.9754     52.908     -7.295      0.000    -489.901    -282.050\n",
      "Mall              -388.9851     52.964     -7.344      0.000    -493.020    -284.950\n",
      "Botanical Garden  -386.1862     52.782     -7.317      0.000    -489.865    -282.508\n",
      "Concert Hall      -387.0131     53.082     -7.291      0.000    -491.281    -282.745\n",
      "Hospital          -388.4557     53.178     -7.305      0.000    -492.911    -284.000\n",
      "Library           -385.9421     53.240     -7.249      0.000    -490.520    -281.364\n",
      "Tourism           -390.3810     53.107     -7.351      0.000    -494.698    -286.064\n",
      "City Hall         -385.3203     52.913     -7.282      0.000    -489.256    -281.384\n",
      "==============================================================================\n",
      "Omnibus:                       51.828   Durbin-Watson:                   0.281\n",
      "Prob(Omnibus):                  0.000   Jarque-Bera (JB):               16.439\n",
      "Skew:                          -0.009   Prob(JB):                     0.000269\n",
      "Kurtosis:                       2.168   Cond. No.                     7.08e+18\n",
      "==============================================================================\n",
      "\n",
      "Notes:\n",
      "[1] Standard Errors assume that the covariance matrix of the errors is correctly specified.\n",
      "[2] The smallest eigenvalue is 3.32e-30. This might indicate that there are\n",
      "strong multicollinearity problems or that the design matrix is singular.\n"
     ]
    }
   ],
   "source": [
    "X = regress[['free_bikes','latitude','longitude','distance','Bar','Restaurant',\n",
    "'Coffee Shop','Museum','Park','Monument','Stadium','Mall','Botanical Garden',\n",
    "'Concert Hall','Hospital','Library','Tourism','City Hall']]\n",
    "y = regress['empty_slots']\n",
    "X = sm.add_constant(X)\n",
    "\n",
    "lin_reg = sm.OLS(y,X)\n",
    "\n",
    "model = lin_reg.fit()\n",
    "print_model = model.summary()\n",
    "print(print_model)"
   ]
  }
 ],
 "metadata": {
  "kernelspec": {
   "display_name": "base",
   "language": "python",
   "name": "python3"
  },
  "language_info": {
   "codemirror_mode": {
    "name": "ipython",
    "version": 3
   },
   "file_extension": ".py",
   "mimetype": "text/x-python",
   "name": "python",
   "nbconvert_exporter": "python",
   "pygments_lexer": "ipython3",
   "version": "3.12.3"
  }
 },
 "nbformat": 4,
 "nbformat_minor": 4
}
